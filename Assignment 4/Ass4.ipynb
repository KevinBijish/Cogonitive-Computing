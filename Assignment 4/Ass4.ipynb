{
  "nbformat": 4,
  "nbformat_minor": 0,
  "metadata": {
    "colab": {
      "provenance": []
    },
    "kernelspec": {
      "name": "python3",
      "display_name": "Python 3"
    },
    "language_info": {
      "name": "python"
    }
  },
  "cells": [
    {
      "cell_type": "code",
      "execution_count": 21,
      "metadata": {
        "colab": {
          "base_uri": "https://localhost:8080/"
        },
        "id": "uJbDpwCYeGim",
        "outputId": "939e6776-47ee-4e7a-a260-84a2edd6616a"
      },
      "outputs": [
        {
          "output_type": "stream",
          "name": "stdout",
          "text": [
            "[3 4 5 6 7]\n",
            "[ 3  6  9 12 15]\n",
            "[0.5 1.  1.5 2.  2.5]\n"
          ]
        }
      ],
      "source": [
        "import numpy as np\n",
        "arr=np.array([1,2,3,4,5])\n",
        "print(arr + 2)\n",
        "print(arr * 3)\n",
        "print(arr / 2)\n"
      ]
    },
    {
      "cell_type": "code",
      "source": [
        "arr1=np.array([1,2,3,6,4,5])\n",
        "reversed=arr1[::-1]\n",
        "print(reversed)\n",
        ""
      ],
      "metadata": {
        "colab": {
          "base_uri": "https://localhost:8080/"
        },
        "id": "FUBZatqaevNM",
        "outputId": "fc13020d-e3a3-4c08-9e21-3ac2e2a4fbeb"
      },
      "execution_count": 22,
      "outputs": [
        {
          "output_type": "stream",
          "name": "stdout",
          "text": [
            "[5 4 6 3 2 1]\n"
          ]
        }
      ]
    },
    {
      "cell_type": "code",
      "source": [
        "x=np.array([1,2,3,4,5,1,2,1,1,1])\n",
        "unique_elements, counts= np.unique(arr,return_counts=True)\n",
        "m1=np.argmax(counts)\n",
        "m2=unique_elements[m1]\n",
        "m2"
      ],
      "metadata": {
        "colab": {
          "base_uri": "https://localhost:8080/"
        },
        "id": "hvx-itHUiFKU",
        "outputId": "7a5c03bd-6e55-4982-dfdb-65c533909939"
      },
      "execution_count": 23,
      "outputs": [
        {
          "output_type": "execute_result",
          "data": {
            "text/plain": [
              "np.int64(1)"
            ]
          },
          "metadata": {},
          "execution_count": 23
        }
      ]
    },
    {
      "cell_type": "code",
      "source": [
        "y=np.array([1,1,1,2,3,4,2,4,3,3])\n",
        "unique_elements, counts=np.unique(arr,return_counts=True)\n",
        "m1=np.argmax(counts)\n",
        "m2=unique_elements[m1]\n",
        "m2\n",
        ""
      ],
      "metadata": {
        "colab": {
          "base_uri": "https://localhost:8080/"
        },
        "id": "dJY4ZBq9iIKu",
        "outputId": "35ca47c5-06d9-410d-bbd9-934ee76a7bbd"
      },
      "execution_count": 24,
      "outputs": [
        {
          "output_type": "execute_result",
          "data": {
            "text/plain": [
              "np.int64(1)"
            ]
          },
          "metadata": {},
          "execution_count": 24
        }
      ]
    },
    {
      "cell_type": "code",
      "source": [
        "arr=np.array([[10,20,30], [40,50,60], [70,80,90]])\n",
        "a=arr[0,1]\n",
        "print(a)\n",
        "arr=np.array([[10,20,30], [40,50,60], [70,80,90]])\n",
        "b=arr[2,0]\n",
        "print(b)\n",
        ""
      ],
      "metadata": {
        "colab": {
          "base_uri": "https://localhost:8080/"
        },
        "id": "eKWSXBYIiKMH",
        "outputId": "51c77617-96fd-49c6-ba5c-2be636554293"
      },
      "execution_count": 25,
      "outputs": [
        {
          "output_type": "stream",
          "name": "stdout",
          "text": [
            "20\n",
            "70\n"
          ]
        }
      ]
    },
    {
      "cell_type": "code",
      "source": [
        "import numpy as np\n",
        "y=np.linspace(10,100,25)\n",
        "print(y)\n",
        "\n",
        "dim=y.ndim\n",
        "print(\"Dimenions of the array: \", dim)\n",
        "\n",
        "shape=y.shape\n",
        "print(\"Shape of the array: \", shape)\n",
        "\n",
        "tot=y.size\n",
        "print(\"Total elements in the array:\",tot)\n",
        "\n",
        "data=y.dtype\n",
        "print(\"Data type: \", data)\n",
        "\n",
        "b=y.nbytes\n",
        "print(\"Total number of bytes: \", b)\n",
        "\n",
        "transpose=np.reshape(y, (25,1))\n",
        "print(\"Transpose: \", transpose)\n",
        "t=y.T\n",
        "print(t)"
      ],
      "metadata": {
        "colab": {
          "base_uri": "https://localhost:8080/"
        },
        "id": "y3u6LlRHiOT-",
        "outputId": "f4773653-ba9a-46b4-a0ad-ad1345fa6795"
      },
      "execution_count": 26,
      "outputs": [
        {
          "output_type": "stream",
          "name": "stdout",
          "text": [
            "[ 10.    13.75  17.5   21.25  25.    28.75  32.5   36.25  40.    43.75\n",
            "  47.5   51.25  55.    58.75  62.5   66.25  70.    73.75  77.5   81.25\n",
            "  85.    88.75  92.5   96.25 100.  ]\n",
            "Dimenions of the array:  1\n",
            "Shape of the array:  (25,)\n",
            "Total elements in the array: 25\n",
            "Data type:  float64\n",
            "Total number of bytes:  200\n",
            "Transpose:  [[ 10.  ]\n",
            " [ 13.75]\n",
            " [ 17.5 ]\n",
            " [ 21.25]\n",
            " [ 25.  ]\n",
            " [ 28.75]\n",
            " [ 32.5 ]\n",
            " [ 36.25]\n",
            " [ 40.  ]\n",
            " [ 43.75]\n",
            " [ 47.5 ]\n",
            " [ 51.25]\n",
            " [ 55.  ]\n",
            " [ 58.75]\n",
            " [ 62.5 ]\n",
            " [ 66.25]\n",
            " [ 70.  ]\n",
            " [ 73.75]\n",
            " [ 77.5 ]\n",
            " [ 81.25]\n",
            " [ 85.  ]\n",
            " [ 88.75]\n",
            " [ 92.5 ]\n",
            " [ 96.25]\n",
            " [100.  ]]\n",
            "[ 10.    13.75  17.5   21.25  25.    28.75  32.5   36.25  40.    43.75\n",
            "  47.5   51.25  55.    58.75  62.5   66.25  70.    73.75  77.5   81.25\n",
            "  85.    88.75  92.5   96.25 100.  ]\n"
          ]
        }
      ]
    },
    {
      "cell_type": "code",
      "source": [
        "ucs420=([[10,20,30,40],[50,60,70,80],[90,15,20,35]])\n",
        "m1=np.mean(ucs420)\n",
        "print(\"Mean: \", m1)\n",
        "\n",
        "m2=np.median(ucs420)\n",
        "print(\"Median: \", m2)\n",
        "\n",
        "m3=np.max(ucs420)\n",
        "print(\"Maximum: \", m3)\n",
        "\n",
        "m4=np.min(ucs420)\n",
        "print(\"Minimum: \", m4)\n",
        "\n",
        "u=np.unique(ucs420)\n",
        "print(\"Unique elements: \", u)\n",
        "\n",
        "r1=np.reshape(ucs420, (4,3))\n",
        "print(\"Reshaped array: \", r1)\n",
        "\n",
        "r2=np.resize(ucs420, (2,3))\n",
        "print(\"Resized array: \", r2)\n",
        ""
      ],
      "metadata": {
        "colab": {
          "base_uri": "https://localhost:8080/"
        },
        "id": "6ry86W2oiQkT",
        "outputId": "e0d75d49-f512-456b-c99a-b5a8246f4c65"
      },
      "execution_count": 27,
      "outputs": [
        {
          "output_type": "stream",
          "name": "stdout",
          "text": [
            "Mean:  43.333333333333336\n",
            "Median:  37.5\n",
            "Maximum:  90\n",
            "Minimum:  10\n",
            "Unique elements:  [10 15 20 30 35 40 50 60 70 80 90]\n",
            "Reshaped array:  [[10 20 30]\n",
            " [40 50 60]\n",
            " [70 80 90]\n",
            " [15 20 35]]\n",
            "Resized array:  [[10 20 30]\n",
            " [40 50 60]]\n"
          ]
        }
      ]
    }
  ]
}